{
 "cells": [
  {
   "cell_type": "code",
   "execution_count": 0,
   "metadata": {
    "application/vnd.databricks.v1+cell": {
     "cellMetadata": {
      "byteLimit": 2048000,
      "rowLimit": 10000
     },
     "inputWidgets": {},
     "nuid": "e01ce7d4-eb34-4143-b521-3911b3dcc5d5",
     "showTitle": false,
     "tableResultSettingsMap": {},
     "title": ""
    }
   },
   "outputs": [],
   "source": [
    "CREATE OR REFRESH STREAMING TABLE sales_dlt\n",
    "AS SELECT *,current_timestamp() as ingestion_date FROM STREAM read_files(\n",
    "  \"/Volumes/dev/naval/sales/\",\n",
    "   format => \"csv\"\n",
    "   );"
   ]
  },
  {
   "cell_type": "code",
   "execution_count": 0,
   "metadata": {
    "application/vnd.databricks.v1+cell": {
     "cellMetadata": {},
     "inputWidgets": {},
     "nuid": "e6dc014e-a154-42f7-88a4-dbc72b14cd6a",
     "showTitle": false,
     "tableResultSettingsMap": {},
     "title": ""
    }
   },
   "outputs": [],
   "source": [
    "create or refresh streaming table priya_silver.sales_dlt_clean \n",
    "(CONSTRAINT valid_order_id EXPECT (order_id IS NOT NULL) ON VIOLATION DROP ROW)\n",
    "as select distinct * except(_rescued_data,ingestion_date ) from stream(sales_dlt)"
   ]
  },
  {
   "cell_type": "code",
   "execution_count": 0,
   "metadata": {
    "application/vnd.databricks.v1+cell": {
     "cellMetadata": {
      "byteLimit": 2048000,
      "rowLimit": 10000
     },
     "inputWidgets": {},
     "nuid": "f68f6062-ef3d-4e70-81d6-a2669b15cc60",
     "showTitle": false,
     "tableResultSettingsMap": {},
     "title": ""
    }
   },
   "outputs": [],
   "source": [
    "CREATE OR REFRESH STREAMING TABLE products_dlt\n",
    "AS SELECT *,current_timestamp() as ingestion_date FROM STREAM read_files(\n",
    "  \"/Volumes/dev/naval/products/\",\n",
    "   format => \"csv\"\n",
    "   );"
   ]
  },
  {
   "cell_type": "code",
   "execution_count": 0,
   "metadata": {
    "application/vnd.databricks.v1+cell": {
     "cellMetadata": {
      "byteLimit": 2048000,
      "rowLimit": 10000
     },
     "inputWidgets": {},
     "nuid": "8306b644-85ed-44d8-8599-4b222d649f4f",
     "showTitle": false,
     "tableResultSettingsMap": {},
     "title": ""
    }
   },
   "outputs": [],
   "source": [
    "CREATE OR REFRESH STREAMING TABLE customers_dlt\n",
    "AS SELECT *,current_timestamp() as ingestion_date FROM STREAM read_files(\n",
    "  \"/Volumes/dev/naval/customers/\",\n",
    "   format => \"csv\"\n",
    "   );"
   ]
  },
  {
   "cell_type": "code",
   "execution_count": 0,
   "metadata": {
    "application/vnd.databricks.v1+cell": {
     "cellMetadata": {},
     "inputWidgets": {},
     "nuid": "0b61984c-41fc-4266-8fc4-478dc53bd710",
     "showTitle": false,
     "tableResultSettingsMap": {},
     "title": ""
    }
   },
   "outputs": [],
   "source": [
    "-- Create and populate the target table.\n",
    "CREATE OR REFRESH STREAMING TABLE priya_silver.customer_silver_scd;\n",
    "\n",
    "APPLY CHANGES INTO\n",
    " priya_silver.customer_silver_scd\n",
    "FROM\n",
    "  stream(customers_dlt)\n",
    "KEYS\n",
    "  (customer_id)\n",
    "APPLY AS DELETE WHEN\n",
    "  operation = \"DELETE\"\n",
    "SEQUENCE BY\n",
    "  sequenceNum\n",
    "COLUMNS * EXCEPT\n",
    "  (operation, sequenceNum, ingestion_date)\n",
    "STORED AS\n",
    "  SCD TYPE 2;"
   ]
  },
  {
   "cell_type": "code",
   "execution_count": 0,
   "metadata": {
    "application/vnd.databricks.v1+cell": {
     "cellMetadata": {},
     "inputWidgets": {},
     "nuid": "838d1fcd-ecdf-4ad0-9793-44729a9f951d",
     "showTitle": false,
     "tableResultSettingsMap": {},
     "title": ""
    }
   },
   "outputs": [],
   "source": [
    "-- Create and populate the target table.\n",
    "CREATE OR REFRESH STREAMING TABLE priya_silver.products_dlt_scd1;\n",
    "\n",
    "APPLY CHANGES INTO\n",
    "  priya_silver.products_dlt_scd1\n",
    "FROM\n",
    "  stream(products_dlt)\n",
    "KEYS\n",
    "  (product_id)\n",
    "APPLY AS DELETE WHEN\n",
    "  operation = \"DELETE\"\n",
    "SEQUENCE BY\n",
    "  seqNum\n",
    "COLUMNS * EXCEPT\n",
    "  (operation, seqNum, ingestion_date)\n",
    "STORED AS\n",
    "  SCD TYPE 1;"
   ]
  },
  {
   "cell_type": "code",
   "execution_count": 0,
   "metadata": {
    "application/vnd.databricks.v1+cell": {
     "cellMetadata": {},
     "inputWidgets": {},
     "nuid": "3a0f24c5-c46a-492b-beff-d095d744eccf",
     "showTitle": false,
     "tableResultSettingsMap": {},
     "title": ""
    }
   },
   "outputs": [],
   "source": [
    "create or refresh materialized view priya_gold.customers_active as \n",
    "select * from dev.priya_silver.customer_silver_scd where `__END_AT` is null"
   ]
  },
  {
   "cell_type": "code",
   "execution_count": 0,
   "metadata": {
    "application/vnd.databricks.v1+cell": {
     "cellMetadata": {},
     "inputWidgets": {},
     "nuid": "a7a9404a-a2ec-47b0-bae3-091a7b33588b",
     "showTitle": false,
     "tableResultSettingsMap": {},
     "title": ""
    }
   },
   "outputs": [],
   "source": [
    "create or refresh materialized view priya_gold.summary as \n",
    "(SELECT \n",
    "    sales.order_id,\n",
    "    sales.customer_id,\n",
    "    sales.transaction_id,\n",
    "    sales.product_id,\n",
    "    sales.quantity,\n",
    "    sales.discount_amount,\n",
    "    sales.total_amount,\n",
    "    sales.order_date,\n",
    "    products.product_name,\n",
    "    products.product_category,\n",
    "    products.product_price,\n",
    "    customers.customer_name,\n",
    "    customers.customer_email\n",
    "FROM \n",
    "    dev.priya_silver.sales_dlt_clean AS sales\n",
    "JOIN \n",
    "    dev.priya_silver.products_dlt_scd1 AS products\n",
    "ON \n",
    "    sales.product_id = products.product_id\n",
    "JOIN \n",
    "    priya_gold.customers_active AS customers\n",
    "ON \n",
    "    sales.customer_id = customers.customer_id)"
   ]
  }
 ],
 "metadata": {
  "application/vnd.databricks.v1+notebook": {
   "computePreferences": null,
   "dashboards": [],
   "environmentMetadata": {
    "base_environment": "",
    "environment_version": "2"
   },
   "inputWidgetPreferences": null,
   "language": "sql",
   "notebookMetadata": {
    "pythonIndentUnit": 4
   },
   "notebookName": "ecom_dlt_ny",
   "widgets": {}
  },
  "language_info": {
   "name": "sql"
  }
 },
 "nbformat": 4,
 "nbformat_minor": 0
}
